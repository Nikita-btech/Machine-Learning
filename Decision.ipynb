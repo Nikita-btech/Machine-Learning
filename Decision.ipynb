import pandas as pd
from sklearn.model_selection import train_test_split
from sklearn.tree import DecisionTreeClassifier
from sklearn.metrics import accuracy_score
from sklearn import tree
import matplotlib.pyplot as plt

# Load the dataset
df = pd.read_csv(r"C:\Users\91705\Downloads\synthetic_dataset.csv")

# Split features and target
X = df[['feature_1', 'feature_2', 'feature_3', 'feature_4']]  # Features
y = df['target']  # Target variable

# Split the dataset into training and testing sets
X_train, X_test, y_train, y_test = train_test_split(X, y, test_size=0.3, random_state=42)

# Initialize the Decision Tree Classifier
clf = DecisionTreeClassifier(criterion='gini', max_depth=5, random_state=42)

# Train the model
clf.fit(X_train, y_train)

# Make predictions on the test set
y_pred = clf.predict(X_test)

# Evaluate the model
accuracy = accuracy_score(y_test, y_pred)
print(f"Accuracy: {accuracy * 100:.2f}%")

# Visualize the Decision Tree
plt.figure(figsize=(16,10))
tree.plot_tree(clf, feature_names=['feature_1', 'feature_2', 'feature_3', 'feature_4'], class_names=['Class 0', 'Class 1', 'Class 2'], filled=True)
plt.show()
