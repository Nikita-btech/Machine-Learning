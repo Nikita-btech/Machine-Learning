{
 "cells": [
  {
   "cell_type": "code",
   "execution_count": 2,
   "id": "dc92926f-a4e9-426a-812e-7e1e27579349",
   "metadata": {},
   "outputs": [
    {
     "name": "stdout",
     "output_type": "stream",
     "text": [
      "Accuracy of SVM: 51.67%\n"
     ]
    }
   ],
   "source": [
    "# Import necessary libraries\n",
    "import numpy as np\n",
    "import pandas as pd\n",
    "from sklearn.model_selection import train_test_split\n",
    "from sklearn.svm import SVC\n",
    "from sklearn.metrics import accuracy_score\n",
    "\n",
    "# Generate a random dataset\n",
    "np.random.seed(42)  # For reproducibility\n",
    "n_samples = 1000  # Number of samples\n",
    "n_features = 3    # Number of features\n",
    "\n",
    "# Create random feature data\n",
    "X = np.random.rand(n_samples, n_features)\n",
    "\n",
    "# Create a random binary target variable\n",
    "y = np.random.randint(0, 2, size=n_samples)\n",
    "\n",
    "# Convert to pandas DataFrame\n",
    "data = pd.DataFrame(X, columns=['feature1', 'feature2', 'feature3'])\n",
    "data['target'] = y\n",
    "\n",
    "# Prepare your features and target variable\n",
    "X = data[['feature1', 'feature2', 'feature3']]  # Feature columns\n",
    "y = data['target']  # Target column\n",
    "\n",
    "# Split the data into training and test sets\n",
    "X_train, X_test, y_train, y_test = train_test_split(X, y, test_size=0.3, random_state=42)\n",
    "\n",
    "# Create an SVM classifier\n",
    "svm = SVC()\n",
    "\n",
    "# Train the model\n",
    "svm.fit(X_train, y_train)\n",
    "\n",
    "# Make predictions\n",
    "y_pred = svm.predict(X_test)\n",
    "\n",
    "# Calculate accuracy\n",
    "accuracy = accuracy_score(y_test, y_pred)\n",
    "\n",
    "# Print the accuracy\n",
    "print(f'Accuracy of SVM: {accuracy * 100:.2f}%')\n"
   ]
  },
  {
   "cell_type": "code",
   "execution_count": null,
   "id": "8d538957-65c7-4b54-a124-02ef8406a080",
   "metadata": {},
   "outputs": [],
   "source": []
  }
 ],
 "metadata": {
  "kernelspec": {
   "display_name": "Python 3 (ipykernel)",
   "language": "python",
   "name": "python3"
  },
  "language_info": {
   "codemirror_mode": {
    "name": "ipython",
    "version": 3
   },
   "file_extension": ".py",
   "mimetype": "text/x-python",
   "name": "python",
   "nbconvert_exporter": "python",
   "pygments_lexer": "ipython3",
   "version": "3.12.3"
  }
 },
 "nbformat": 4,
 "nbformat_minor": 5
}
